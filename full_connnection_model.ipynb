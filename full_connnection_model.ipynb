{
 "cells": [
  {
   "cell_type": "markdown",
   "metadata": {},
   "source": [
    "# 建模步骤：准备数据 -> 搭建模型 -> 迭代训练 -> 使用模型"
   ]
  },
  {
   "cell_type": "markdown",
   "metadata": {},
   "source": [
    "## 使用Tensorflow搭建模型：定义TensorFlow输入节点 -> 定义‘学习参数’的变量 -> 定义‘运算’ -> 定义优化目标，选择优化函数"
   ]
  },
  {
   "cell_type": "markdown",
   "metadata": {},
   "source": [
    "# 1、导入相关的函数库"
   ]
  },
  {
   "cell_type": "code",
   "execution_count": 2,
   "metadata": {},
   "outputs": [],
   "source": [
    "import numpy as np\n",
    "import tensorflow as tf\n",
    "from tensorflow.examples.tutorials.mnist import input_data\n",
    "import matplotlib.pyplot as plt\n",
    "from matplotlib import pylab\n",
    "%matplotlib inline"
   ]
  },
  {
   "cell_type": "markdown",
   "metadata": {},
   "source": [
    "# 2、【准备数据】MNSIT手写数字数据可直接导入使用"
   ]
  },
  {
   "cell_type": "code",
   "execution_count": 4,
   "metadata": {
    "scrolled": true
   },
   "outputs": [
    {
     "name": "stdout",
     "output_type": "stream",
     "text": [
      "Extracting MNIST_data\\train-images-idx3-ubyte.gz\n",
      "Extracting MNIST_data\\train-labels-idx1-ubyte.gz\n",
      "Extracting MNIST_data\\t10k-images-idx3-ubyte.gz\n",
      "Extracting MNIST_data\\t10k-labels-idx1-ubyte.gz\n"
     ]
    }
   ],
   "source": [
    "mnist = input_data.read_data_sets('MNIST_data',one_hot=True)"
   ]
  },
  {
   "cell_type": "markdown",
   "metadata": {},
   "source": [
    "## 还原为图片看效果"
   ]
  },
  {
   "cell_type": "code",
   "execution_count": 5,
   "metadata": {},
   "outputs": [
    {
     "data": {
      "image/png": "[encoded data removed]",
      "text/plain": [
       "<Figure size 432x288 with 1 Axes>"
      ]
     },
     "metadata": {},
     "output_type": "display_data"
    }
   ],
   "source": [
    "test_image_pix = mnist.train.images[199]\n",
    "test_image = test_image_pix.reshape((28,-1))\n",
    "# print(type(test_image_pix))\n",
    "pylab.imshow(test_image)\n",
    "pylab.show()\n"
   ]
  },
  {
   "cell_type": "markdown",
   "metadata": {},
   "source": [
    "# 3、【搭建模型】使用TensorFlow搭建只有一个隐藏层的全连接神经网络"
   ]
  },
  {
   "cell_type": "markdown",
   "metadata": {},
   "source": [
    "## 1)、【TensorFlow搭建模型】定义模型的输入节点"
   ]
  },
  {
   "cell_type": "code",
   "execution_count": 17,
   "metadata": {},
   "outputs": [],
   "source": [
    "tf.reset_default_graph()\n",
    "input_x = tf.placeholder(tf.float32,[None,784])     # MNIST 中的数据为浮点数，dtypes选择tf.float32，图片为28*28黑白图片，shape设置为[None,784]\n",
    "input_y = tf.placeholder(tf.float32,[None,10])      # MNIST 中的数字为 0~9，共10类，shape设置为[None,10]"
   ]
  },
  {
   "cell_type": "markdown",
   "metadata": {},
   "source": [
    "## 2)、【TensorFlow搭建模型】定义模型的学习参数"
   ]
  },
  {
   "cell_type": "code",
   "execution_count": 18,
   "metadata": {},
   "outputs": [],
   "source": [
    "# weights = tf.Variable(tf.truncated_normal([784,10]))        # 输入为 28*28=784维，输出为10维\n",
    "# biases = tf.Variable(tf.zeros([10]))\n",
    "\n",
    "weights = tf.get_variable('weights',[784,10],initializer=tf.truncated_normal_initializer(stddev=0.1))\n",
    "biases = tf.get_variable('biases',[10],initializer=tf.zeros_initializer)"
   ]
  },
  {
   "cell_type": "markdown",
   "metadata": {},
   "source": [
    "## 3)、【TensorFlow搭建模型】定义运算"
   ]
  },
  {
   "cell_type": "code",
   "execution_count": 19,
   "metadata": {},
   "outputs": [],
   "source": [
    "logits = tf.matmul(input_x,weights)+biases\n",
    "scores = tf.nn.softmax(logits)"
   ]
  },
  {
   "cell_type": "markdown",
   "metadata": {},
   "source": [
    "## 4)、【TensorFlow搭建模型】定义优化目标（损失/代价函数）和优化函数"
   ]
  },
  {
   "cell_type": "code",
   "execution_count": 20,
   "metadata": {},
   "outputs": [],
   "source": [
    "# 优化目标\n",
    "cross_entropy = - tf.reduce_sum(input_y*tf.log(tf.clip_by_value(scores,1e-40,1.0)),1)\n",
    "loss = tf.reduce_mean(cross_entropy)\n",
    "# 优化函数\n",
    "learning_rate = 0.01\n",
    "global_step = tf.Variable(1,trainable=False)\n",
    "optimizer = tf.train.GradientDescentOptimizer(learning_rate).minimize(loss,global_step=global_step)\n",
    "# 计算精度\n",
    "correct_predictions = tf.equal(tf.argmax(scores,1),tf.argmax(input_y,1))\n",
    "acc = tf.reduce_mean(tf.cast(correct_predictions,tf.float32))"
   ]
  },
  {
   "cell_type": "code",
   "execution_count": 21,
   "metadata": {},
   "outputs": [
    {
     "name": "stdout",
     "output_type": "stream",
     "text": [
      "After 500 epochs, loss on train set is 0.8764608502388, accuracy on test set is 0.7997999787330627\n",
      "After 500 epochs, weights is [[-0.01775566 -0.00197766 -0.16979198 ...  0.034923   -0.06677323\n",
      "  -0.16610333]\n",
      " [-0.03985436  0.10575632  0.01696199 ...  0.19475769 -0.03614642\n",
      "   0.19685297]\n",
      " [-0.10230228 -0.09833834 -0.11050916 ... -0.19428661 -0.03511254\n",
      "   0.03356445]\n",
      " ...\n",
      " [-0.12125579 -0.03581312 -0.13924904 ...  0.07305101  0.08168184\n",
      "  -0.01614465]\n",
      " [ 0.02017206  0.0363276  -0.07292802 ...  0.03455479 -0.02865704\n",
      "  -0.10155971]\n",
      " [ 0.04011867  0.16024621  0.16392499 ... -0.0137442   0.08177358\n",
      "  -0.07085615]], biases is [-0.0492754   0.09046391 -0.02064894 -0.01435736  0.03521331  0.0028956\n",
      " -0.00395176  0.03854409 -0.05095929 -0.02792406]\n",
      "After 1000 epochs, loss on train set is 0.6323551535606384, accuracy on test set is 0.8475000262260437\n",
      "After 1000 epochs, weights is [[-0.01775566 -0.00197766 -0.16979198 ...  0.034923   -0.06677323\n",
      "  -0.16610333]\n",
      " [-0.03985436  0.10575632  0.01696199 ...  0.19475769 -0.03614642\n",
      "   0.19685297]\n",
      " [-0.10230228 -0.09833834 -0.11050916 ... -0.19428661 -0.03511254\n",
      "   0.03356445]\n",
      " ...\n",
      " [-0.12125579 -0.03581312 -0.13924904 ...  0.07305101  0.08168184\n",
      "  -0.01614465]\n",
      " [ 0.02017206  0.0363276  -0.07292802 ...  0.03455479 -0.02865704\n",
      "  -0.10155971]\n",
      " [ 0.04011867  0.16024621  0.16392499 ... -0.0137442   0.08177358\n",
      "  -0.07085615]], biases is [-0.0607135   0.11974872 -0.03063293 -0.02224081  0.04590144  0.03260348\n",
      " -0.00486381  0.05796162 -0.10116435 -0.03659972]\n",
      "After 1500 epochs, loss on train set is 0.5465580821037292, accuracy on test set is 0.8648999929428101\n",
      "After 1500 epochs, weights is [[-0.01775566 -0.00197766 -0.16979198 ...  0.034923   -0.06677323\n",
      "  -0.16610333]\n",
      " [-0.03985436  0.10575632  0.01696199 ...  0.19475769 -0.03614642\n",
      "   0.19685297]\n",
      " [-0.10230228 -0.09833834 -0.11050916 ... -0.19428661 -0.03511254\n",
      "   0.03356445]\n",
      " ...\n",
      " [-0.12125579 -0.03581312 -0.13924904 ...  0.07305101  0.08168184\n",
      "  -0.01614465]\n",
      " [ 0.02017206  0.0363276  -0.07292802 ...  0.03455479 -0.02865704\n",
      "  -0.10155971]\n",
      " [ 0.04011867  0.16024621  0.16392499 ... -0.0137442   0.08177358\n",
      "  -0.07085615]], biases is [-0.06906042  0.13917805 -0.03630887 -0.0288105   0.05298328  0.06119516\n",
      " -0.00571004  0.07459211 -0.1444432  -0.04361566]\n",
      "After 2000 epochs, loss on train set is 0.5204251408576965, accuracy on test set is 0.8758999705314636\n",
      "After 2000 epochs, weights is [[-0.01775566 -0.00197766 -0.16979198 ...  0.034923   -0.06677323\n",
      "  -0.16610333]\n",
      " [-0.03985436  0.10575632  0.01696199 ...  0.19475769 -0.03614642\n",
      "   0.19685297]\n",
      " [-0.10230228 -0.09833834 -0.11050916 ... -0.19428661 -0.03511254\n",
      "   0.03356445]\n",
      " ...\n",
      " [-0.12125579 -0.03581312 -0.13924904 ...  0.07305101  0.08168184\n",
      "  -0.01614465]\n",
      " [ 0.02017206  0.0363276  -0.07292802 ...  0.03455479 -0.02865704\n",
      "  -0.10155971]\n",
      " [ 0.04011867  0.16024621  0.16392499 ... -0.0137442   0.08177358\n",
      "  -0.07085615]], biases is [-0.07594045  0.154482   -0.04006863 -0.03402174  0.05776507  0.08768303\n",
      " -0.00626747  0.08877816 -0.18214116 -0.050269  ]\n"
     ]
    }
   ],
   "source": [
    "batch_size = 700\n",
    "training_epoches = 2000\n",
    "display_step = 500\n",
    "\n",
    "with tf.Session() as sess:\n",
    "    sess.run(tf.global_variables_initializer())\n",
    "    for epoch in range(training_epoches):\n",
    "        train_x,train_y = mnist.train.next_batch(batch_size)\n",
    "        _, training_loss = sess.run([optimizer, loss],feed_dict = {input_x:train_x,input_y:train_y})\n",
    "\n",
    "        if (epoch+1) % display_step == 0:\n",
    "            test_x,test_y = mnist.test.images,mnist.test.labels\n",
    "            accuracy = sess.run(acc,feed_dict={input_x:test_x,input_y:test_y})   # 基于测试集对训练好的模型进行测试\n",
    "            \n",
    "            print(\"After {} epochs, loss on train set is {}, accuracy on test set is {}\".format(epoch+1,training_loss,accuracy))\n",
    "            print('After {} epochs, weights is {}, biases is {}'.format(epoch+1,sess.run(weights),sess.run(biases)))\n",
    "    "
   ]
  },
  {
   "cell_type": "markdown",
   "metadata": {},
   "source": [
    "# 4、【迭代训练】初始化所有变量，迭代训练模型更新参数，并将模型保存至本地"
   ]
  },
  {
   "cell_type": "code",
   "execution_count": 11,
   "metadata": {
    "scrolled": true
   },
   "outputs": [
    {
     "name": "stdout",
     "output_type": "stream",
     "text": [
      "Model saved in file model/fc_model.ckpt-501\n",
      "After 500 epochs, loss on train set is 4.37325382232666, accuracy on test set is 0.2957000136375427\n",
      "Model saved in file model/fc_model.ckpt-1001\n",
      "After 1000 epochs, loss on train set is 2.969087600708008, accuracy on test set is 0.47940000891685486\n",
      "Model saved in file model/fc_model.ckpt-1501\n",
      "After 1500 epochs, loss on train set is 2.806359052658081, accuracy on test set is 0.5738999843597412\n",
      "Model saved in file model/fc_model.ckpt-2001\n",
      "After 2000 epochs, loss on train set is 1.8846756219863892, accuracy on test set is 0.6308000087738037\n"
     ]
    }
   ],
   "source": [
    "batch_size = 700\n",
    "training_epoches = 2000\n",
    "display_step = 500\n",
    "\n",
    "savedir = 'model/'\n",
    "saver = tf.train.Saver(max_to_keep=3)\n",
    "\n",
    "with tf.Session() as sess:\n",
    "    sess.run(tf.global_variables_initializer())\n",
    "    for epoch in range(training_epoches):\n",
    "        train_x,train_y = mnist.train.next_batch(batch_size)\n",
    "#         _,step,training_loss = sess.run([optimizer,global_step,loss],feed_dict = {input_x:train_x,input_y:train_y})\n",
    "        _, training_loss = sess.run([optimizer, loss],feed_dict = {input_x:train_x,input_y:train_y})\n",
    "\n",
    "        if (epoch+1) % display_step == 0:\n",
    "            test_x,test_y = mnist.test.images,mnist.test.labels\n",
    "            accuracy = sess.run(acc,feed_dict={input_x:test_x,input_y:test_y})   # 基于测试集对训练好的模型进行测试\n",
    "            \n",
    "            save_path = saver.save(sess,savedir+'fc_model.ckpt',global_step=global_step)\n",
    "            print('Model saved in file {}'.format(save_path))\n",
    "            print(\"After {} epochs, loss on train set is {}, accuracy on test set is {}\".format(epoch+1,training_loss,accuracy))\n",
    "    "
   ]
  },
  {
   "cell_type": "markdown",
   "metadata": {},
   "source": [
    "# 5、【使用模型】基于验证集使用模型进行使用"
   ]
  },
  {
   "cell_type": "code",
   "execution_count": 12,
   "metadata": {},
   "outputs": [
    {
     "name": "stdout",
     "output_type": "stream",
     "text": [
      "saved model is  model/fc_model.ckpt-90000\n",
      "INFO:tensorflow:Restoring parameters from model/fc_model.ckpt-90000\n",
      "Accuracy on validation set is 0.8949999809265137\n"
     ]
    }
   ],
   "source": [
    "# 加载训练好的模型（需要重复使用 1-3 步）\n",
    "saver_test_or_pred = tf.train.Saver()\n",
    "savedir = 'model/'\n",
    "ckpt_test_or_pred = tf.train.latest_checkpoint(savedir)\n",
    "print('saved model is ',ckpt_test_or_pred)\n",
    "\n",
    "with tf.Session() as sess_1:\n",
    "    saver_test_or_pred.restore(sess_1,ckpt_test_or_pred)\n",
    "    \n",
    "    valid_x,valid_y = mnist.validation.images,mnist.validation.labels\n",
    "    valid_acc = sess_1.run(acc,feed_dict={input_x:valid_x,input_y:valid_y})   # 基于测试集对训练好的模型进行测试\n",
    " \n",
    "    print(\"Accuracy on validation set is {}\".format(valid_acc)) "
   ]
  },
  {
   "cell_type": "markdown",
   "metadata": {},
   "source": [
    "# 6、【模型再训练】基于已经训练好的模型再次训练"
   ]
  },
  {
   "cell_type": "code",
   "execution_count": 13,
   "metadata": {
    "scrolled": true
   },
   "outputs": [
    {
     "name": "stdout",
     "output_type": "stream",
     "text": [
      "INFO:tensorflow:Restoring parameters from model/fc_model.ckpt-90000\n",
      "After 1000 epochs, loss on train set is 0.39058589935302734, accuracy on test set is 0.8974000215530396\n",
      "After 2000 epochs, loss on train set is 0.40507203340530396, accuracy on test set is 0.8978999853134155\n",
      "After 3000 epochs, loss on train set is 0.4329923391342163, accuracy on test set is 0.8978999853134155\n"
     ]
    }
   ],
   "source": [
    "batch_size = 600\n",
    "training_epochs = 3000\n",
    "display_step = 1000\n",
    "\n",
    "saver_2 = tf.train.Saver(max_to_keep=3)\n",
    "savedir = 'model/'\n",
    "ckpt_retrain = tf.train.latest_checkpoint(savedir)\n",
    "\n",
    "with tf.Session() as sess_2:\n",
    "    saver_2.restore(sess_2,ckpt_retrain)\n",
    "    for epoch in range(training_epochs):\n",
    "        train_x,train_y = mnist.train.next_batch(batch_size)\n",
    "        _,training_loss = sess_2.run([optimizer,loss],feed_dict = {input_x:train_x,input_y:train_y})\n",
    "        \n",
    "        if (epoch+1) % display_step == 0:\n",
    "            test_x,test_y = mnist.test.images,mnist.test.labels\n",
    "            accuracy = sess_2.run(acc,feed_dict={input_x:test_x,input_y:test_y})   # 基于测试集对训练好的模型进行测试\n",
    "            \n",
    "            save_path = saver_2.save(sess_2,savedir+'fc_model.ckpt',global_step=global_step)\n",
    "#             print('Model saved in file {}'.format(save_path))\n",
    "            print(\"After {} epochs, loss on train set is {}, accuracy on test set is {}\".format(epoch+1,training_loss,accuracy))\n",
    "    "
   ]
  }
 ],
 "metadata": {
  "kernelspec": {
   "display_name": "Python 3",
   "language": "python",
   "name": "python3"
  },
  "language_info": {
   "codemirror_mode": {
    "name": "ipython",
    "version": 3
   },
   "file_extension": ".py",
   "mimetype": "text/x-python",
   "name": "python",
   "nbconvert_exporter": "python",
   "pygments_lexer": "ipython3",
   "version": "3.6.5"
  }
 },
 "nbformat": 4,
 "nbformat_minor": 2
}
